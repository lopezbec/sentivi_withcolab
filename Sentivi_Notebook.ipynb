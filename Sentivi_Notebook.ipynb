{
  "nbformat": 4,
  "nbformat_minor": 0,
  "metadata": {
    "colab": {
      "name": "Sentivi_Notebook.ipynb",
      "provenance": [],
      "collapsed_sections": []
    },
    "kernelspec": {
      "name": "python3",
      "display_name": "Python 3"
    },
    "language_info": {
      "name": "python"
    }
  },
  "cells": [
    {
      "cell_type": "markdown",
      "source": [
        "## This is just an implementation of the original work done by @vndee\n",
        "### https://github.com/vndee/sentivi"
      ],
      "metadata": {
        "id": "qXFyUW2CUmyo"
      }
    },
    {
      "cell_type": "markdown",
      "source": [
        "#Updated 6-7-2022 \n",
        "\n",
        "<a target=\"_blank\" href=\"https://colab.research.google.com/github/lopezbec/sentivi_withcolab/blob/master/Sentivi_Notebook.ipynb\"><img src=\"https://camo.githubusercontent.com/dfbf50eed8dd2dea5f3e0beaaf2001eeca77f314/68747470733a2f2f7777772e74656e736f72666c6f772e6f72672f696d616765732f636f6c61625f6c6f676f5f333270782e706e67\" data-canonical-src=\"https://www.tensorflow.org/images/colab_logo_32px.png\">Run in Google Colab</a>"
      ],
      "metadata": {
        "id": "Fh-XNeFwhm-s"
      }
    },
    {
      "cell_type": "markdown",
      "source": [
        "\n",
        "Install latest version from source:"
      ],
      "metadata": {
        "id": "bw6Xya7sUi76"
      }
    },
    {
      "cell_type": "code",
      "source": [
        "from google.colab import output"
      ],
      "metadata": {
        "id": "efE_O27Pg09P"
      },
      "execution_count": 1,
      "outputs": []
    },
    {
      "cell_type": "markdown",
      "source": [
        "This might take a few minutes since we need to uninstall and install a lot of stuff from the Google Colab VM"
      ],
      "metadata": {
        "id": "LobNLm9vh0r2"
      }
    },
    {
      "cell_type": "code",
      "execution_count": 2,
      "metadata": {
        "id": "r80tVLN2UgWE"
      },
      "outputs": [],
      "source": [
        "!git clone https://github.com/vndee/sentivi\n",
        "%cd sentivi\n",
        "!pip uninstall -y -r <(pip freeze)\n",
        "!pip install -r requirements.txt\n",
        "!pip install .\n",
        "output.clear()"
      ]
    },
    {
      "cell_type": "code",
      "source": [
        "from sentivi import Pipeline\n",
        "from sentivi.data import DataLoader, TextEncoder\n",
        "from sentivi.classifier import SVMClassifier\n",
        "from sentivi.text_processor import TextProcessor\n",
        "\n",
        "text_processor = TextProcessor(methods=['word_segmentation', 'remove_punctuation', 'lower'])\n",
        "\n",
        "pipeline = Pipeline(DataLoader(text_processor=text_processor, n_grams=3),\n",
        "                    TextEncoder(encode_type='one-hot'),\n",
        "                    SVMClassifier(num_labels=3))\n",
        "\n",
        "train_results = pipeline(train='./data/dev.vi', test='./data/dev_test.vi')\n",
        "print(train_results)\n",
        "\n",
        "\n",
        "\n"
      ],
      "metadata": {
        "colab": {
          "base_uri": "https://localhost:8080/"
        },
        "id": "hvpUfTl8Uisb",
        "outputId": "77bb5ac9-1226-401c-fcbd-09daad6c970d"
      },
      "execution_count": 3,
      "outputs": [
        {
          "output_type": "stream",
          "name": "stderr",
          "text": [
            "One Hot Text Encoder: 100%|██████████| 6/6 [00:00<00:00, 2060.07it/s]\n",
            "One Hot Text Encoder: 100%|██████████| 2/2 [00:00<00:00, 704.51it/s]"
          ]
        },
        {
          "output_type": "stream",
          "name": "stdout",
          "text": [
            "Input features view be flatten into np.ndarray(6, 35328) for scikit-learn classifier.\n",
            "Training classifier...\n",
            "Testing classifier...\n",
            "Training results:\n",
            "              precision    recall  f1-score   support\n",
            "\n",
            "           0       0.75      1.00      0.86         3\n",
            "           1       1.00      1.00      1.00         2\n",
            "           2       1.00      0.00      0.00         1\n",
            "\n",
            "    accuracy                           0.83         6\n",
            "   macro avg       0.92      0.67      0.62         6\n",
            "weighted avg       0.88      0.83      0.76         6\n",
            "\n",
            "Test results:\n",
            "              precision    recall  f1-score   support\n",
            "\n",
            "           0       1.00      1.00      1.00         1\n",
            "           1       1.00      1.00      1.00         1\n",
            "\n",
            "    accuracy                           1.00         2\n",
            "   macro avg       1.00      1.00      1.00         2\n",
            "weighted avg       1.00      1.00      1.00         2\n",
            "\n",
            "\n"
          ]
        },
        {
          "output_type": "stream",
          "name": "stderr",
          "text": [
            "\n"
          ]
        }
      ]
    },
    {
      "cell_type": "markdown",
      "source": [
        "### Enter the text below"
      ],
      "metadata": {
        "id": "SBYNVwXph_OJ"
      }
    },
    {
      "cell_type": "code",
      "source": [
        "\n",
        "text = 'hàng ok đầu tuýp có một số không vừa ốc siết. chỉ được một số đầu thôi .cần' #@param {type:\"string\"}\n",
        "predict_results = pipeline.predict([text])\n"
      ],
      "metadata": {
        "colab": {
          "base_uri": "https://localhost:8080/"
        },
        "cellView": "form",
        "id": "BtNet9HJUio6",
        "outputId": "b05c8032-a786-4362-e4ae-9a92a5044b51"
      },
      "execution_count": 4,
      "outputs": [
        {
          "output_type": "stream",
          "name": "stderr",
          "text": [
            "One Hot Text Encoder: 100%|██████████| 1/1 [00:00<00:00, 302.18it/s]"
          ]
        },
        {
          "output_type": "stream",
          "name": "stdout",
          "text": [
            "Input features view be flatten into np.ndarray(1, 35328) for scikit-learn classifier.\n"
          ]
        },
        {
          "output_type": "stream",
          "name": "stderr",
          "text": [
            "\n"
          ]
        }
      ]
    },
    {
      "cell_type": "code",
      "source": [
        "print(predict_results)\n",
        "print(f'Decoded results: {pipeline.decode_polarity(predict_results)}')"
      ],
      "metadata": {
        "colab": {
          "base_uri": "https://localhost:8080/"
        },
        "id": "426cqmX4UifD",
        "outputId": "4b5666b1-98d4-4a3e-d207-d42b4d6cae4b"
      },
      "execution_count": 5,
      "outputs": [
        {
          "output_type": "stream",
          "name": "stdout",
          "text": [
            "[0]\n",
            "Decoded results: ['#POS']\n"
          ]
        }
      ]
    }
  ]
}